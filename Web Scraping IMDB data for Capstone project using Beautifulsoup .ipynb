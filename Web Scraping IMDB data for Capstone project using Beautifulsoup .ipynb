{
 "cells": [
  {
   "cell_type": "code",
   "execution_count": 2,
   "id": "20302afa",
   "metadata": {},
   "outputs": [
    {
     "name": "stdout",
     "output_type": "stream",
     "text": [
      "Scraping and saving movie details to CSV complete.\n"
     ]
    }
   ],
   "source": [
    "import csv\n",
    "import requests\n",
    "from bs4 import BeautifulSoup\n",
    "\n",
    "url = 'https://www.imdb.com/search/title/?genres=action&sort=user_rating,desc&title_type=feature&num_votes=25000,&pf_rd_m=A2FGELUUNOQJNL&pf_rd_p=f11158cc-b50b-4c4d-b0a2-40b32863395b&pf_rd_r=XZ8X52H1R40B7KG5SNZ9&pf_rd_s=right-6&pf_rd_t=15506&pf_rd_i=top&ref_=chttp_gnr_1'\n",
    "\n",
    "# Send a GET request to the URL\n",
    "response = requests.get(url)\n",
    "\n",
    "# Create a BeautifulSoup object to parse the HTML content\n",
    "soup = BeautifulSoup(response.text, 'html.parser')\n",
    "\n",
    "# Find all the movie items on the page\n",
    "movies = soup.find_all('div', class_='lister-item mode-advanced')\n",
    "\n",
    "# Create a CSV file for movie details and write the headers\n",
    "with open('imdb_movie_details.csv', 'w', newline='', encoding='utf-8') as file:\n",
    "    writer = csv.writer(file)\n",
    "    writer.writerow(['Movie Name', 'Star1', 'Star2', 'Star3', 'Star4', 'Votes', 'Genre1', 'Genre2', 'Genre3', 'Gross Collection', 'Popularity', 'Certification'])\n",
    "\n",
    "    # Iterate over each movie item and extract the desired information\n",
    "    for movie in movies:\n",
    "        movie_name = movie.h3.a.text\n",
    "\n",
    "        stars_element = movie.find_all('p', class_='')\n",
    "        stars = stars_element[2].find_all('a') if len(stars_element) > 2 else []\n",
    "        star1 = stars[0].text if len(stars) > 0 else ''\n",
    "        star2 = stars[1].text if len(stars) > 1 else ''\n",
    "        star3 = stars[2].text if len(stars) > 2 else ''\n",
    "        star4 = stars[3].text if len(stars) > 3 else ''\n",
    "\n",
    "        votes = movie.find('span', attrs={'name': 'nv'})['data-value']\n",
    "        genre_tags = movie.find('span', class_='genre').text.strip().split(',')\n",
    "        genre1 = genre_tags[0].strip() if len(genre_tags) > 0 else ''\n",
    "        genre2 = genre_tags[1].strip() if len(genre_tags) > 1 else ''\n",
    "        genre3 = genre_tags[2].strip() if len(genre_tags) > 2 else ''\n",
    "\n",
    "        gross_collection = movie.find('span', class_='text-muted text-small').text.strip() if movie.find('span', class_='text-muted text-small') else ''\n",
    "        popularity = movie.find('span', class_='lister-item-index unbold text-primary').text.strip()\n",
    "        certification = movie.find('span', class_='certificate').text.strip() if movie.find('span', class_='certificate') else ''\n",
    "\n",
    "        # Write the data to the CSV file\n",
    "        writer.writerow([movie_name, star1, star2, star3, star4, votes, genre1, genre2, genre3, gross_collection, popularity, certification])\n",
    "\n",
    "print('Scraping and saving movie details to CSV complete.')\n"
   ]
  },
  {
   "cell_type": "code",
   "execution_count": null,
   "id": "c4547735",
   "metadata": {},
   "outputs": [],
   "source": []
  }
 ],
 "metadata": {
  "kernelspec": {
   "display_name": "Python 3",
   "language": "python",
   "name": "python3"
  },
  "language_info": {
   "codemirror_mode": {
    "name": "ipython",
    "version": 3
   },
   "file_extension": ".py",
   "mimetype": "text/x-python",
   "name": "python",
   "nbconvert_exporter": "python",
   "pygments_lexer": "ipython3",
   "version": "3.8.8"
  }
 },
 "nbformat": 4,
 "nbformat_minor": 5
}
